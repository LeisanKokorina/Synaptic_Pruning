{
 "cells": [
  {
   "cell_type": "code",
   "execution_count": 9,
   "metadata": {
    "collapsed": true,
    "ExecuteTime": {
     "end_time": "2023-05-25T10:23:18.032631685Z",
     "start_time": "2023-05-25T10:23:17.952405572Z"
    }
   },
   "outputs": [],
   "source": [
    "import torch\n",
    "from torch import nn\n",
    "from torch.utils.data import DataLoader\n",
    "from torchvision import datasets\n",
    "from torchvision.transforms import ToTensor\n",
    "from sklearn.metrics import precision_recall_fscore_support\n",
    "import os\n",
    "import time\n",
    "from torch.optim.lr_scheduler import StepLR"
   ]
  },
  {
   "cell_type": "code",
   "execution_count": 10,
   "outputs": [],
   "source": [
    "# Download training data from open datasets.\n",
    "training_data = datasets.FashionMNIST(\n",
    "    root=\"data\",\n",
    "    train=True,\n",
    "    download=True,\n",
    "    transform=ToTensor(),\n",
    ")\n",
    "\n",
    "# Download test data from open datasets.\n",
    "test_data = datasets.FashionMNIST(\n",
    "    root=\"data\",\n",
    "    train=False,\n",
    "    download=True,\n",
    "    transform=ToTensor(),\n",
    ")"
   ],
   "metadata": {
    "collapsed": false,
    "ExecuteTime": {
     "end_time": "2023-05-25T10:23:18.088697823Z",
     "start_time": "2023-05-25T10:23:17.994721928Z"
    }
   }
  },
  {
   "cell_type": "code",
   "execution_count": 11,
   "outputs": [
    {
     "name": "stdout",
     "output_type": "stream",
     "text": [
      "Shape of X [N, C, H, W]: torch.Size([64, 1, 28, 28])\n",
      "Shape of y: torch.Size([64]) torch.int64\n"
     ]
    }
   ],
   "source": [
    "batch_size = 64\n",
    "\n",
    "# Create data loaders.\n",
    "train_dataloader = DataLoader(training_data, batch_size=batch_size)\n",
    "test_dataloader = DataLoader(test_data, batch_size=batch_size)\n",
    "\n",
    "for X, y in test_dataloader:\n",
    "    print(f\"Shape of X [N, C, H, W]: {X.shape}\")\n",
    "    print(f\"Shape of y: {y.shape} {y.dtype}\")\n",
    "    break"
   ],
   "metadata": {
    "collapsed": false,
    "ExecuteTime": {
     "end_time": "2023-05-25T10:23:18.135974898Z",
     "start_time": "2023-05-25T10:23:18.084145883Z"
    }
   }
  },
  {
   "cell_type": "code",
   "execution_count": 12,
   "outputs": [
    {
     "name": "stdout",
     "output_type": "stream",
     "text": [
      "Using cpu device\n",
      "ADLNet(\n",
      "  (features): Sequential(\n",
      "    (0): Conv2d(1, 32, kernel_size=(3, 3), stride=(1, 1), padding=(1, 1))\n",
      "    (1): BatchNorm2d(32, eps=1e-05, momentum=0.1, affine=True, track_running_stats=True)\n",
      "    (2): ReLU(inplace=True)\n",
      "    (3): Conv2d(32, 32, kernel_size=(3, 3), stride=(1, 1), padding=(1, 1))\n",
      "    (4): BatchNorm2d(32, eps=1e-05, momentum=0.1, affine=True, track_running_stats=True)\n",
      "    (5): ReLU(inplace=True)\n",
      "    (6): MaxPool2d(kernel_size=2, stride=2, padding=0, dilation=1, ceil_mode=False)\n",
      "    (7): Dropout(p=0.25, inplace=False)\n",
      "    (8): Conv2d(32, 64, kernel_size=(3, 3), stride=(1, 1), padding=(1, 1))\n",
      "    (9): BatchNorm2d(64, eps=1e-05, momentum=0.1, affine=True, track_running_stats=True)\n",
      "    (10): ReLU(inplace=True)\n",
      "    (11): Conv2d(64, 64, kernel_size=(3, 3), stride=(1, 1), padding=(1, 1))\n",
      "    (12): BatchNorm2d(64, eps=1e-05, momentum=0.1, affine=True, track_running_stats=True)\n",
      "    (13): ReLU(inplace=True)\n",
      "    (14): MaxPool2d(kernel_size=2, stride=2, padding=0, dilation=1, ceil_mode=False)\n",
      "    (15): Dropout(p=0.25, inplace=False)\n",
      "    (16): Conv2d(64, 128, kernel_size=(3, 3), stride=(1, 1), padding=(1, 1))\n",
      "    (17): BatchNorm2d(128, eps=1e-05, momentum=0.1, affine=True, track_running_stats=True)\n",
      "    (18): ReLU(inplace=True)\n",
      "    (19): Conv2d(128, 128, kernel_size=(3, 3), stride=(1, 1), padding=(1, 1))\n",
      "    (20): BatchNorm2d(128, eps=1e-05, momentum=0.1, affine=True, track_running_stats=True)\n",
      "    (21): ReLU(inplace=True)\n",
      "    (22): MaxPool2d(kernel_size=2, stride=2, padding=0, dilation=1, ceil_mode=False)\n",
      "    (23): Dropout(p=0.25, inplace=False)\n",
      "  )\n",
      "  (avgpool): AdaptiveAvgPool2d(output_size=(3, 3))\n",
      "  (classifier): Sequential(\n",
      "    (0): Dropout(p=0.5, inplace=False)\n",
      "    (1): Linear(in_features=1152, out_features=512, bias=True)\n",
      "    (2): ReLU(inplace=True)\n",
      "    (3): BatchNorm1d(512, eps=1e-05, momentum=0.1, affine=True, track_running_stats=True)\n",
      "    (4): Dropout(p=0.5, inplace=False)\n",
      "    (5): Linear(in_features=512, out_features=256, bias=True)\n",
      "    (6): ReLU(inplace=True)\n",
      "    (7): BatchNorm1d(256, eps=1e-05, momentum=0.1, affine=True, track_running_stats=True)\n",
      "    (8): Linear(in_features=256, out_features=100, bias=True)\n",
      "  )\n",
      ")\n"
     ]
    }
   ],
   "source": [
    "# Get cpu, gpu or mps device for training.\n",
    "device = (\n",
    "    \"cuda\"\n",
    "    if torch.cuda.is_available()\n",
    "    else \"mps\"\n",
    "    if torch.backends.mps.is_available()\n",
    "    else \"cpu\"\n",
    ")\n",
    "print(f\"Using {device} device\")\n",
    "\n",
    "class ADLNet(nn.Module):\n",
    "    def __init__(self, num_classes=100):\n",
    "        super(ADLNet, self).__init__()\n",
    "        self.features = nn.Sequential(\n",
    "            nn.Conv2d(1, 32, kernel_size=3, stride=1, padding=1),\n",
    "            nn.BatchNorm2d(32),\n",
    "            nn.ReLU(inplace=True),\n",
    "            nn.Conv2d(32, 32, kernel_size=3, stride=1, padding=1),\n",
    "            nn.BatchNorm2d(32),\n",
    "            nn.ReLU(inplace=True),\n",
    "            nn.MaxPool2d(kernel_size=2, stride=2),\n",
    "            nn.Dropout(0.25),\n",
    "\n",
    "            nn.Conv2d(32, 64, kernel_size=3, padding=1),\n",
    "            nn.BatchNorm2d(64),\n",
    "            nn.ReLU(inplace=True),\n",
    "            nn.Conv2d(64, 64, kernel_size=3, padding=1),\n",
    "            nn.BatchNorm2d(64),\n",
    "            nn.ReLU(inplace=True),\n",
    "            nn.MaxPool2d(kernel_size=2, stride=2),\n",
    "            nn.Dropout(0.25),\n",
    "\n",
    "            nn.Conv2d(64, 128, kernel_size=3, padding=1),\n",
    "            nn.BatchNorm2d(128),\n",
    "            nn.ReLU(inplace=True),\n",
    "            nn.Conv2d(128, 128, kernel_size=3, padding=1),\n",
    "            nn.BatchNorm2d(128),\n",
    "            nn.ReLU(inplace=True),\n",
    "            nn.MaxPool2d(kernel_size=2, stride=2),\n",
    "            nn.Dropout(0.25)\n",
    "        )\n",
    "        self.avgpool = nn.AdaptiveAvgPool2d((3, 3))\n",
    "        self.classifier = nn.Sequential(\n",
    "            nn.Dropout(0.5),\n",
    "            nn.Linear(128 * 3 * 3, 512),\n",
    "            nn.ReLU(inplace=True),\n",
    "            nn.BatchNorm1d(512),\n",
    "            nn.Dropout(0.5),\n",
    "            nn.Linear(512, 256),\n",
    "            nn.ReLU(inplace=True),\n",
    "            nn.BatchNorm1d(256),\n",
    "            nn.Linear(256, num_classes),\n",
    "        )\n",
    "\n",
    "    def forward(self, x):\n",
    "        x = self.features(x)\n",
    "        x = self.avgpool(x)\n",
    "        x = x.view(x.size(0), 128 * 3 * 3)\n",
    "        x = self.classifier(x)\n",
    "        return x\n",
    "model = ADLNet().to(device)\n",
    "# print(model.summary())\n",
    "print(model)"
   ],
   "metadata": {
    "collapsed": false,
    "ExecuteTime": {
     "end_time": "2023-05-25T10:23:18.206428481Z",
     "start_time": "2023-05-25T10:23:18.126359957Z"
    }
   }
  },
  {
   "cell_type": "code",
   "execution_count": 13,
   "outputs": [],
   "source": [
    "lr_step_gamma = 0.7\n",
    "loss_fn = nn.CrossEntropyLoss()\n",
    "optimizer = torch.optim.SGD(model.parameters(), lr=1e-3)\n",
    "scheduler = StepLR(optimizer, step_size=1, gamma=lr_step_gamma)"
   ],
   "metadata": {
    "collapsed": false,
    "ExecuteTime": {
     "end_time": "2023-05-25T10:23:18.206821124Z",
     "start_time": "2023-05-25T10:23:18.170438714Z"
    }
   }
  },
  {
   "cell_type": "code",
   "execution_count": 14,
   "outputs": [],
   "source": [
    "def train(dataloader, model, loss_fn, optimizer, scheduler, prune_percentage):\n",
    "    size = len(dataloader.dataset)\n",
    "    model.train()\n",
    "\n",
    "    for batch, (X, y) in enumerate(dataloader):\n",
    "        X, y = X.to(device), y.to(device)\n",
    "\n",
    "        # Compute prediction error\n",
    "        pred = model(X)\n",
    "        loss = loss_fn(pred, y)\n",
    "\n",
    "        # Backpropagation\n",
    "        optimizer.zero_grad()\n",
    "        loss.backward()\n",
    "        optimizer.step()\n",
    "\n",
    "\n",
    "        # Get the magnitudes of weights and sort them in descending order\n",
    "        weight_magnitudes = []\n",
    "        for param in model.parameters():\n",
    "            weight_magnitudes.extend(torch.abs(param.data).flatten())\n",
    "        weight_magnitudes = torch.sort(torch.tensor(weight_magnitudes), descending=True).values\n",
    "\n",
    "        # Set pruning threshold based on specified percentage\n",
    "        prune_threshold = weight_magnitudes[int(prune_percentage * len(weight_magnitudes))]\n",
    "\n",
    "        # Prune weights based on the threshold\n",
    "        for param in model.parameters():\n",
    "            mask = torch.abs(param.data) >= prune_threshold\n",
    "            param.data *= mask\n",
    "\n",
    "        if batch % 100 == 0:\n",
    "            loss, current = loss.item(), (batch + 1) * len(X)\n",
    "            print(f\"loss: {loss:>7f}  [{current:>5d}/{size:>5d}]\")\n",
    "\n",
    "        # Update the learning rate\n",
    "        scheduler.step()"
   ],
   "metadata": {
    "collapsed": false,
    "ExecuteTime": {
     "end_time": "2023-05-25T10:23:18.206999153Z",
     "start_time": "2023-05-25T10:23:18.170745488Z"
    }
   }
  },
  {
   "cell_type": "code",
   "execution_count": 15,
   "outputs": [],
   "source": [
    "def test(dataloader, model, loss_fn):\n",
    "    size = len(dataloader.dataset)\n",
    "    num_batches = len(dataloader)\n",
    "    model.eval()\n",
    "    test_loss, correct = 0, 0\n",
    "    with torch.no_grad():\n",
    "        for X, y in dataloader:\n",
    "            X, y = X.to(device), y.to(device)\n",
    "            pred = model(X)\n",
    "            test_loss += loss_fn(pred, y).item()\n",
    "            correct += (pred.argmax(1) == y).type(torch.float).sum().item()\n",
    "    test_loss /= num_batches\n",
    "    correct /= size\n",
    "    print(f\"Test Error: \\n Accuracy: {(100*correct):>0.1f}%, Avg loss: {test_loss:>8f} \\n\")"
   ],
   "metadata": {
    "collapsed": false,
    "ExecuteTime": {
     "end_time": "2023-05-25T10:23:18.207150443Z",
     "start_time": "2023-05-25T10:23:18.170960047Z"
    }
   }
  },
  {
   "cell_type": "code",
   "execution_count": 16,
   "outputs": [
    {
     "name": "stdout",
     "output_type": "stream",
     "text": [
      "Fine-tuning Epoch 1\n",
      "-------------------------------\n",
      "loss: 4.775121  [   64/60000]\n",
      "loss: 3.519913  [ 6464/60000]\n",
      "loss: 1.625332  [12864/60000]\n",
      "loss: 1.334817  [19264/60000]\n",
      "loss: 1.026526  [25664/60000]\n",
      "loss: 1.057887  [32064/60000]\n",
      "loss: 0.841550  [38464/60000]\n",
      "loss: 0.919455  [44864/60000]\n",
      "loss: 0.794893  [51264/60000]\n",
      "loss: 0.597531  [57664/60000]\n",
      "Test Error: \n",
      " Accuracy: 75.5%, Avg loss: 0.722145 \n",
      "\n",
      "Fine-tuning Epoch 2\n",
      "-------------------------------\n",
      "loss: 0.694820  [   64/60000]\n",
      "loss: 0.730169  [ 6464/60000]\n",
      "loss: 0.488343  [12864/60000]\n",
      "loss: 0.702612  [19264/60000]\n",
      "loss: 0.603308  [25664/60000]\n",
      "loss: 0.671341  [32064/60000]\n",
      "loss: 0.645819  [38464/60000]\n",
      "loss: 0.805023  [44864/60000]\n",
      "loss: 0.687872  [51264/60000]\n",
      "loss: 0.580785  [57664/60000]\n",
      "Test Error: \n",
      " Accuracy: 80.6%, Avg loss: 0.547708 \n",
      "\n"
     ]
    }
   ],
   "source": [
    "# Fine-tuning after pruning\n",
    "fine_tune_optimizer = torch.optim.SGD(model.parameters(), lr=0.01)  # Use lower learning rate\n",
    "fine_tune_epochs = 2\n",
    "prune_percentage = 0.2\n",
    "for t in range(fine_tune_epochs):\n",
    "    print(f\"Fine-tuning Epoch {t+1}\\n-------------------------------\")\n",
    "    train(train_dataloader, model, loss_fn, fine_tune_optimizer, scheduler, prune_percentage)\n",
    "    test(test_dataloader, model, loss_fn)"
   ],
   "metadata": {
    "collapsed": false,
    "ExecuteTime": {
     "end_time": "2023-05-25T11:40:21.943830469Z",
     "start_time": "2023-05-25T10:23:18.214707296Z"
    }
   }
  },
  {
   "cell_type": "code",
   "execution_count": 17,
   "outputs": [
    {
     "name": "stdout",
     "output_type": "stream",
     "text": [
      "Epoch 1\n",
      "-------------------------------\n",
      "loss: 0.398902  [   64/60000]\n",
      "loss: 0.668929  [ 6464/60000]\n",
      "loss: 0.423881  [12864/60000]\n",
      "loss: 0.661852  [19264/60000]\n",
      "loss: 0.472019  [25664/60000]\n",
      "loss: 0.568383  [32064/60000]\n",
      "loss: 0.585043  [38464/60000]\n",
      "loss: 0.647204  [44864/60000]\n",
      "loss: 0.678222  [51264/60000]\n",
      "loss: 0.504215  [57664/60000]\n",
      "Test Error: \n",
      " Accuracy: 80.3%, Avg loss: 0.552233 \n",
      "\n",
      "Epoch 2\n",
      "-------------------------------\n",
      "loss: 0.494767  [   64/60000]\n",
      "loss: 0.733721  [ 6464/60000]\n",
      "loss: 0.424727  [12864/60000]\n",
      "loss: 0.667936  [19264/60000]\n",
      "loss: 0.608046  [25664/60000]\n",
      "loss: 0.536186  [32064/60000]\n",
      "loss: 0.615958  [38464/60000]\n",
      "loss: 0.785528  [44864/60000]\n",
      "loss: 0.610756  [51264/60000]\n",
      "loss: 0.537841  [57664/60000]\n",
      "Test Error: \n",
      " Accuracy: 80.2%, Avg loss: 0.556307 \n",
      "\n",
      "Epoch 3\n",
      "-------------------------------\n",
      "loss: 0.619932  [   64/60000]\n",
      "loss: 0.563121  [ 6464/60000]\n",
      "loss: 0.392936  [12864/60000]\n",
      "loss: 0.631039  [19264/60000]\n",
      "loss: 0.574563  [25664/60000]\n",
      "loss: 0.606908  [32064/60000]\n",
      "loss: 0.480293  [38464/60000]\n",
      "loss: 0.710472  [44864/60000]\n",
      "loss: 0.715089  [51264/60000]\n",
      "loss: 0.612600  [57664/60000]\n",
      "Test Error: \n",
      " Accuracy: 80.4%, Avg loss: 0.544525 \n",
      "\n",
      "Epoch 4\n",
      "-------------------------------\n",
      "loss: 0.458699  [   64/60000]\n",
      "loss: 0.569297  [ 6464/60000]\n",
      "loss: 0.390097  [12864/60000]\n",
      "loss: 0.510401  [19264/60000]\n",
      "loss: 0.584691  [25664/60000]\n",
      "loss: 0.539177  [32064/60000]\n",
      "loss: 0.512117  [38464/60000]\n",
      "loss: 0.682604  [44864/60000]\n",
      "loss: 0.685453  [51264/60000]\n",
      "loss: 0.474072  [57664/60000]\n",
      "Test Error: \n",
      " Accuracy: 80.3%, Avg loss: 0.553742 \n",
      "\n",
      "Epoch 5\n",
      "-------------------------------\n",
      "loss: 0.482658  [   64/60000]\n",
      "loss: 0.656025  [ 6464/60000]\n",
      "loss: 0.415722  [12864/60000]\n",
      "loss: 0.673468  [19264/60000]\n",
      "loss: 0.617309  [25664/60000]\n",
      "loss: 0.669558  [32064/60000]\n",
      "loss: 0.537328  [38464/60000]\n",
      "loss: 0.618598  [44864/60000]\n",
      "loss: 0.721464  [51264/60000]\n",
      "loss: 0.558380  [57664/60000]\n",
      "Test Error: \n",
      " Accuracy: 80.2%, Avg loss: 0.553444 \n",
      "\n",
      "Finished Training\n",
      "Training time:  23942.96025276184 seconds\n",
      "Done!\n"
     ]
    }
   ],
   "source": [
    "# Main training loop\n",
    "epochs = 5\n",
    "start_time = time.time()\n",
    "for t in range(epochs):\n",
    "    print(f\"Epoch {t+1}\\n-------------------------------\")\n",
    "    train(train_dataloader, model, loss_fn, optimizer, scheduler, prune_percentage)\n",
    "    test(test_dataloader, model, loss_fn)\n",
    "end_time = time.time()\n",
    "training_time = end_time - start_time\n",
    "print('Finished Training')\n",
    "print('Training time: ', training_time, 'seconds')\n",
    "print(\"Done!\")"
   ],
   "metadata": {
    "collapsed": false,
    "ExecuteTime": {
     "end_time": "2023-05-25T18:19:24.918456093Z",
     "start_time": "2023-05-25T11:40:21.942437042Z"
    }
   }
  },
  {
   "cell_type": "code",
   "execution_count": 18,
   "outputs": [],
   "source": [
    "model.to(device)\n",
    "def calculate_metrics(model, dataloader):\n",
    "    correct = 0\n",
    "    total = 0\n",
    "    y_true = []\n",
    "    y_pred = []\n",
    "    with torch.no_grad():\n",
    "        for data in dataloader:\n",
    "            images, labels = data[0].to(device), data[1].to(device)\n",
    "            outputs = model(images)\n",
    "            _, predicted = torch.max(outputs.data, 1)\n",
    "            total += labels.size(0)\n",
    "            correct += (predicted == labels).sum().item()\n",
    "            y_true.extend(labels.tolist())\n",
    "            y_pred.extend(predicted.tolist())\n",
    "\n",
    "    accuracy = correct / total\n",
    "    precision, recall, _, _ = precision_recall_fscore_support(y_true, y_pred, average='weighted')\n",
    "\n",
    "    return accuracy, precision, recall"
   ],
   "metadata": {
    "collapsed": false,
    "ExecuteTime": {
     "end_time": "2023-05-25T18:19:24.919159011Z",
     "start_time": "2023-05-25T18:19:24.917614791Z"
    }
   }
  },
  {
   "cell_type": "code",
   "execution_count": 19,
   "outputs": [
    {
     "name": "stdout",
     "output_type": "stream",
     "text": [
      "Accuracy: 0.8022\n",
      "Precision: 0.8114664738759864\n",
      "Recall: 0.8022\n"
     ]
    }
   ],
   "source": [
    "# Calculate metrics\n",
    "accuracy, precision, recall = calculate_metrics(model, test_dataloader)\n",
    "\n",
    "print(f'Accuracy: {accuracy}')\n",
    "print(f'Precision: {precision}')\n",
    "print(f'Recall: {recall}')"
   ],
   "metadata": {
    "collapsed": false,
    "ExecuteTime": {
     "end_time": "2023-05-25T18:19:34.371867553Z",
     "start_time": "2023-05-25T18:19:24.919799203Z"
    }
   }
  },
  {
   "cell_type": "code",
   "execution_count": 20,
   "outputs": [
    {
     "name": "stdout",
     "output_type": "stream",
     "text": [
      "Model size: 4.169343 MB\n",
      "Average inference time: 0.003504776954650879 s\n"
     ]
    }
   ],
   "source": [
    "def get_model_size(model):\n",
    "    torch.save(model.state_dict(), \"model.pth\")\n",
    "    size_MB = os.path.getsize(\"model.pth\")/1e6\n",
    "    return size_MB\n",
    "\n",
    "def get_inference_time(model, input_shape=(1, 1, 28, 28), repeat=100):\n",
    "    device = next(model.parameters()).device  # Get the device of the model\n",
    "    model.eval()\n",
    "    input_data = torch.randn(input_shape).to(device)  # Move input data to the same device as the model\n",
    "    start_time = time.time()\n",
    "    for _ in range(repeat):\n",
    "        with torch.no_grad():\n",
    "            _ = model(input_data)\n",
    "    return (time.time() - start_time) / repeat\n",
    "\n",
    "# Get model size\n",
    "print(f'Model size: {get_model_size(model)} MB')\n",
    "\n",
    "# Get inference time\n",
    "print(f'Average inference time: {get_inference_time(model)} s')"
   ],
   "metadata": {
    "collapsed": false,
    "ExecuteTime": {
     "end_time": "2023-05-25T18:19:34.777888466Z",
     "start_time": "2023-05-25T18:19:34.383510320Z"
    }
   }
  },
  {
   "cell_type": "code",
   "execution_count": 21,
   "outputs": [
    {
     "data": {
      "text/plain": "<All keys matched successfully>"
     },
     "execution_count": 21,
     "metadata": {},
     "output_type": "execute_result"
    }
   ],
   "source": [
    "model = ADLNet()\n",
    "model.load_state_dict(torch.load(\"model.pth\"))"
   ],
   "metadata": {
    "collapsed": false,
    "ExecuteTime": {
     "end_time": "2023-05-25T18:19:34.865926764Z",
     "start_time": "2023-05-25T18:19:34.778528227Z"
    }
   }
  },
  {
   "cell_type": "code",
   "execution_count": 22,
   "outputs": [
    {
     "name": "stdout",
     "output_type": "stream",
     "text": [
      "Predicted: \"Ankle boot\", Actual: \"Ankle boot\"\n"
     ]
    }
   ],
   "source": [
    "classes = [\n",
    "    \"T-shirt/top\",\n",
    "    \"Trouser\",\n",
    "    \"Pullover\",\n",
    "    \"Dress\",\n",
    "    \"Coat\",\n",
    "    \"Sandal\",\n",
    "    \"Shirt\",\n",
    "    \"Sneaker\",\n",
    "    \"Bag\",\n",
    "    \"Ankle boot\",\n",
    "]\n",
    "\n",
    "model.eval()\n",
    "x, y = test_data[0][0], test_data[0][1]\n",
    "x = x.unsqueeze(0)\n",
    "with torch.no_grad():\n",
    "    pred = model(x)\n",
    "    predicted, actual = classes[pred[0].argmax(0)], classes[y]\n",
    "    print(f'Predicted: \"{predicted}\", Actual: \"{actual}\"')"
   ],
   "metadata": {
    "collapsed": false,
    "ExecuteTime": {
     "end_time": "2023-05-25T18:19:34.930184323Z",
     "start_time": "2023-05-25T18:19:34.865551539Z"
    }
   }
  }
 ],
 "metadata": {
  "kernelspec": {
   "display_name": "Python 3",
   "language": "python",
   "name": "python3"
  },
  "language_info": {
   "codemirror_mode": {
    "name": "ipython",
    "version": 2
   },
   "file_extension": ".py",
   "mimetype": "text/x-python",
   "name": "python",
   "nbconvert_exporter": "python",
   "pygments_lexer": "ipython2",
   "version": "2.7.6"
  }
 },
 "nbformat": 4,
 "nbformat_minor": 0
}
