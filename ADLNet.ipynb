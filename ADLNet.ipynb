{
 "cells": [
  {
   "cell_type": "code",
   "execution_count": null,
   "id": "b0dd7f60",
   "metadata": {
    "ExecuteTime": {
     "end_time": "2023-05-15T09:23:37.078166Z",
     "start_time": "2023-05-15T09:23:34.942143Z"
    },
    "id": "b0dd7f60"
   },
   "outputs": [],
   "source": [
    "import torch\n",
    "from torch import nn\n",
    "from torch.utils.data import DataLoader\n",
    "from torchvision import datasets\n",
    "from torchvision.transforms import ToTensor\n",
    "from sklearn.metrics import precision_recall_fscore_support\n",
    "import os\n",
    "import time"
   ]
  },
  {
   "cell_type": "code",
   "execution_count": null,
   "id": "bcd15c9f",
   "metadata": {
    "ExecuteTime": {
     "end_time": "2023-05-15T09:23:38.768891Z",
     "start_time": "2023-05-15T09:23:38.679614Z"
    },
    "colab": {
     "base_uri": "https://localhost:8080/"
    },
    "id": "bcd15c9f",
    "outputId": "797a724c-759a-4a12-d5df-e6c540ca7dc5"
   },
   "outputs": [
    {
     "output_type": "stream",
     "name": "stdout",
     "text": [
      "Downloading http://fashion-mnist.s3-website.eu-central-1.amazonaws.com/train-images-idx3-ubyte.gz\n",
      "Downloading http://fashion-mnist.s3-website.eu-central-1.amazonaws.com/train-images-idx3-ubyte.gz to data/FashionMNIST/raw/train-images-idx3-ubyte.gz\n"
     ]
    },
    {
     "output_type": "stream",
     "name": "stderr",
     "text": [
      "100%|██████████| 26421880/26421880 [00:03<00:00, 7024211.35it/s] \n"
     ]
    },
    {
     "output_type": "stream",
     "name": "stdout",
     "text": [
      "Extracting data/FashionMNIST/raw/train-images-idx3-ubyte.gz to data/FashionMNIST/raw\n",
      "\n",
      "Downloading http://fashion-mnist.s3-website.eu-central-1.amazonaws.com/train-labels-idx1-ubyte.gz\n",
      "Downloading http://fashion-mnist.s3-website.eu-central-1.amazonaws.com/train-labels-idx1-ubyte.gz to data/FashionMNIST/raw/train-labels-idx1-ubyte.gz\n"
     ]
    },
    {
     "output_type": "stream",
     "name": "stderr",
     "text": [
      "100%|██████████| 29515/29515 [00:00<00:00, 117349.91it/s]\n"
     ]
    },
    {
     "output_type": "stream",
     "name": "stdout",
     "text": [
      "Extracting data/FashionMNIST/raw/train-labels-idx1-ubyte.gz to data/FashionMNIST/raw\n",
      "\n",
      "Downloading http://fashion-mnist.s3-website.eu-central-1.amazonaws.com/t10k-images-idx3-ubyte.gz\n",
      "Downloading http://fashion-mnist.s3-website.eu-central-1.amazonaws.com/t10k-images-idx3-ubyte.gz to data/FashionMNIST/raw/t10k-images-idx3-ubyte.gz\n"
     ]
    },
    {
     "output_type": "stream",
     "name": "stderr",
     "text": [
      "100%|██████████| 4422102/4422102 [00:09<00:00, 480809.89it/s] \n"
     ]
    },
    {
     "output_type": "stream",
     "name": "stdout",
     "text": [
      "Extracting data/FashionMNIST/raw/t10k-images-idx3-ubyte.gz to data/FashionMNIST/raw\n",
      "\n",
      "Downloading http://fashion-mnist.s3-website.eu-central-1.amazonaws.com/t10k-labels-idx1-ubyte.gz\n",
      "Downloading http://fashion-mnist.s3-website.eu-central-1.amazonaws.com/t10k-labels-idx1-ubyte.gz to data/FashionMNIST/raw/t10k-labels-idx1-ubyte.gz\n"
     ]
    },
    {
     "output_type": "stream",
     "name": "stderr",
     "text": [
      "100%|██████████| 5148/5148 [00:00<00:00, 18841428.44it/s]"
     ]
    },
    {
     "output_type": "stream",
     "name": "stdout",
     "text": [
      "Extracting data/FashionMNIST/raw/t10k-labels-idx1-ubyte.gz to data/FashionMNIST/raw\n",
      "\n"
     ]
    },
    {
     "output_type": "stream",
     "name": "stderr",
     "text": [
      "\n"
     ]
    }
   ],
   "source": [
    "# Download training data from open datasets.\n",
    "training_data = datasets.FashionMNIST(\n",
    "    root=\"data\",\n",
    "    train=True,\n",
    "    download=True,\n",
    "    transform=ToTensor(),\n",
    ")\n",
    "\n",
    "# Download test data from open datasets.\n",
    "test_data = datasets.FashionMNIST(\n",
    "    root=\"data\",\n",
    "    train=False,\n",
    "    download=True,\n",
    "    transform=ToTensor(),\n",
    ")"
   ]
  },
  {
   "cell_type": "code",
   "execution_count": null,
   "id": "5761d2e5",
   "metadata": {
    "ExecuteTime": {
     "end_time": "2023-05-15T09:28:33.026164Z",
     "start_time": "2023-05-15T09:28:33.006369Z"
    },
    "colab": {
     "base_uri": "https://localhost:8080/"
    },
    "id": "5761d2e5",
    "outputId": "49e07b37-951a-4d70-9af0-900fe6cbc871"
   },
   "outputs": [
    {
     "output_type": "stream",
     "name": "stdout",
     "text": [
      "Shape of X [N, C, H, W]: torch.Size([64, 1, 28, 28])\n",
      "Shape of y: torch.Size([64]) torch.int64\n"
     ]
    }
   ],
   "source": [
    "batch_size = 64\n",
    "\n",
    "# Create data loaders.\n",
    "train_dataloader = DataLoader(training_data, batch_size=batch_size)\n",
    "test_dataloader = DataLoader(test_data, batch_size=batch_size)\n",
    "\n",
    "for X, y in test_dataloader:\n",
    "    print(f\"Shape of X [N, C, H, W]: {X.shape}\")\n",
    "    print(f\"Shape of y: {y.shape} {y.dtype}\")\n",
    "    break"
   ]
  },
  {
   "cell_type": "code",
   "execution_count": null,
   "id": "981aa4a3",
   "metadata": {
    "ExecuteTime": {
     "end_time": "2023-05-15T09:43:20.449453Z",
     "start_time": "2023-05-15T09:43:20.369717Z"
    },
    "colab": {
     "base_uri": "https://localhost:8080/"
    },
    "id": "981aa4a3",
    "outputId": "a319c5a7-ba7a-479c-bd92-4079805d96cd"
   },
   "outputs": [
    {
     "output_type": "stream",
     "name": "stdout",
     "text": [
      "Using cuda device\n",
      "ADLNet(\n",
      "  (features): Sequential(\n",
      "    (0): Conv2d(1, 32, kernel_size=(3, 3), stride=(1, 1), padding=(1, 1))\n",
      "    (1): BatchNorm2d(32, eps=1e-05, momentum=0.1, affine=True, track_running_stats=True)\n",
      "    (2): ReLU(inplace=True)\n",
      "    (3): Conv2d(32, 32, kernel_size=(3, 3), stride=(1, 1), padding=(1, 1))\n",
      "    (4): BatchNorm2d(32, eps=1e-05, momentum=0.1, affine=True, track_running_stats=True)\n",
      "    (5): ReLU(inplace=True)\n",
      "    (6): MaxPool2d(kernel_size=2, stride=2, padding=0, dilation=1, ceil_mode=False)\n",
      "    (7): Dropout(p=0.25, inplace=False)\n",
      "    (8): Conv2d(32, 64, kernel_size=(3, 3), stride=(1, 1), padding=(1, 1))\n",
      "    (9): BatchNorm2d(64, eps=1e-05, momentum=0.1, affine=True, track_running_stats=True)\n",
      "    (10): ReLU(inplace=True)\n",
      "    (11): Conv2d(64, 64, kernel_size=(3, 3), stride=(1, 1), padding=(1, 1))\n",
      "    (12): BatchNorm2d(64, eps=1e-05, momentum=0.1, affine=True, track_running_stats=True)\n",
      "    (13): ReLU(inplace=True)\n",
      "    (14): MaxPool2d(kernel_size=2, stride=2, padding=0, dilation=1, ceil_mode=False)\n",
      "    (15): Dropout(p=0.25, inplace=False)\n",
      "    (16): Conv2d(64, 128, kernel_size=(3, 3), stride=(1, 1), padding=(1, 1))\n",
      "    (17): BatchNorm2d(128, eps=1e-05, momentum=0.1, affine=True, track_running_stats=True)\n",
      "    (18): ReLU(inplace=True)\n",
      "    (19): Conv2d(128, 128, kernel_size=(3, 3), stride=(1, 1), padding=(1, 1))\n",
      "    (20): BatchNorm2d(128, eps=1e-05, momentum=0.1, affine=True, track_running_stats=True)\n",
      "    (21): ReLU(inplace=True)\n",
      "    (22): MaxPool2d(kernel_size=2, stride=2, padding=0, dilation=1, ceil_mode=False)\n",
      "    (23): Dropout(p=0.25, inplace=False)\n",
      "  )\n",
      "  (avgpool): AdaptiveAvgPool2d(output_size=(3, 3))\n",
      "  (classifier): Sequential(\n",
      "    (0): Dropout(p=0.5, inplace=False)\n",
      "    (1): Linear(in_features=1152, out_features=512, bias=True)\n",
      "    (2): ReLU(inplace=True)\n",
      "    (3): BatchNorm1d(512, eps=1e-05, momentum=0.1, affine=True, track_running_stats=True)\n",
      "    (4): Dropout(p=0.5, inplace=False)\n",
      "    (5): Linear(in_features=512, out_features=256, bias=True)\n",
      "    (6): ReLU(inplace=True)\n",
      "    (7): BatchNorm1d(256, eps=1e-05, momentum=0.1, affine=True, track_running_stats=True)\n",
      "    (8): Linear(in_features=256, out_features=100, bias=True)\n",
      "  )\n",
      ")\n"
     ]
    }
   ],
   "source": [
    "# Get cpu, gpu or mps device for training.\n",
    "device = (\n",
    "    \"cuda\"\n",
    "    if torch.cuda.is_available()\n",
    "    else \"mps\"\n",
    "    if torch.backends.mps.is_available()\n",
    "    else \"cpu\"\n",
    ")\n",
    "print(f\"Using {device} device\")\n",
    "\n",
    "class ADLNet(nn.Module):\n",
    "    def __init__(self, num_classes=100):\n",
    "        super(ADLNet, self).__init__()\n",
    "        self.features = nn.Sequential(\n",
    "            nn.Conv2d(1, 32, kernel_size=3, stride=1, padding=1),\n",
    "            nn.BatchNorm2d(32),\n",
    "            nn.ReLU(inplace=True),\n",
    "            nn.Conv2d(32, 32, kernel_size=3, stride=1, padding=1),\n",
    "            nn.BatchNorm2d(32),\n",
    "            nn.ReLU(inplace=True),\n",
    "            nn.MaxPool2d(kernel_size=2, stride=2),\n",
    "            nn.Dropout(0.25),\n",
    "\n",
    "            nn.Conv2d(32, 64, kernel_size=3, padding=1),\n",
    "            nn.BatchNorm2d(64),\n",
    "            nn.ReLU(inplace=True),\n",
    "            nn.Conv2d(64, 64, kernel_size=3, padding=1),\n",
    "            nn.BatchNorm2d(64),\n",
    "            nn.ReLU(inplace=True),\n",
    "            nn.MaxPool2d(kernel_size=2, stride=2),\n",
    "            nn.Dropout(0.25),\n",
    "\n",
    "            nn.Conv2d(64, 128, kernel_size=3, padding=1),\n",
    "            nn.BatchNorm2d(128),\n",
    "            nn.ReLU(inplace=True),\n",
    "            nn.Conv2d(128, 128, kernel_size=3, padding=1),\n",
    "            nn.BatchNorm2d(128),\n",
    "            nn.ReLU(inplace=True),\n",
    "            nn.MaxPool2d(kernel_size=2, stride=2),\n",
    "            nn.Dropout(0.25)\n",
    "        )\n",
    "        self.avgpool = nn.AdaptiveAvgPool2d((3, 3))\n",
    "        self.classifier = nn.Sequential(\n",
    "            nn.Dropout(0.5),\n",
    "            nn.Linear(128 * 3 * 3, 512),\n",
    "            nn.ReLU(inplace=True),\n",
    "            nn.BatchNorm1d(512),\n",
    "            nn.Dropout(0.5),\n",
    "            nn.Linear(512, 256),\n",
    "            nn.ReLU(inplace=True),\n",
    "            nn.BatchNorm1d(256),\n",
    "            nn.Linear(256, num_classes),\n",
    "        )\n",
    "\n",
    "    def forward(self, x):\n",
    "        x = self.features(x)\n",
    "        x = self.avgpool(x)\n",
    "        x = x.view(x.size(0), 128 * 3 * 3)\n",
    "        x = self.classifier(x)\n",
    "        return x\n",
    "model = ADLNet().to(device)\n",
    "# print(model.summary())\n",
    "print(model)"
   ]
  },
  {
   "cell_type": "code",
   "execution_count": null,
   "id": "a6fb8f7a",
   "metadata": {
    "ExecuteTime": {
     "end_time": "2023-05-15T09:43:24.938134Z",
     "start_time": "2023-05-15T09:43:24.933662Z"
    },
    "id": "a6fb8f7a"
   },
   "outputs": [],
   "source": [
    "loss_fn = nn.CrossEntropyLoss()\n",
    "optimizer = torch.optim.SGD(model.parameters(), lr=1e-3)"
   ]
  },
  {
   "cell_type": "code",
   "execution_count": null,
   "id": "c17c64fb",
   "metadata": {
    "ExecuteTime": {
     "end_time": "2023-05-15T09:43:26.757714Z",
     "start_time": "2023-05-15T09:43:26.752632Z"
    },
    "id": "c17c64fb"
   },
   "outputs": [],
   "source": [
    "def train(dataloader, model, loss_fn, optimizer):\n",
    "    size = len(dataloader.dataset)\n",
    "    model.train()\n",
    "    for batch, (X, y) in enumerate(dataloader):\n",
    "        X, y = X.to(device), y.to(device)\n",
    "\n",
    "        # Compute prediction error\n",
    "        pred = model(X)\n",
    "        loss = loss_fn(pred, y)\n",
    "\n",
    "        # Backpropagation\n",
    "        optimizer.zero_grad()\n",
    "        loss.backward()\n",
    "        optimizer.step()\n",
    "\n",
    "        if batch % 100 == 0:\n",
    "            loss, current = loss.item(), (batch + 1) * len(X)\n",
    "            print(f\"loss: {loss:>7f}  [{current:>5d}/{size:>5d}]\")"
   ]
  },
  {
   "cell_type": "code",
   "execution_count": null,
   "id": "71ae0fe4",
   "metadata": {
    "ExecuteTime": {
     "end_time": "2023-05-15T09:43:28.968803Z",
     "start_time": "2023-05-15T09:43:28.963257Z"
    },
    "id": "71ae0fe4"
   },
   "outputs": [],
   "source": [
    "def test(dataloader, model, loss_fn):\n",
    "    size = len(dataloader.dataset)\n",
    "    num_batches = len(dataloader)\n",
    "    model.eval()\n",
    "    test_loss, correct = 0, 0\n",
    "    with torch.no_grad():\n",
    "        for X, y in dataloader:\n",
    "            X, y = X.to(device), y.to(device)\n",
    "            pred = model(X)\n",
    "            test_loss += loss_fn(pred, y).item()\n",
    "            correct += (pred.argmax(1) == y).type(torch.float).sum().item()\n",
    "    test_loss /= num_batches\n",
    "    correct /= size\n",
    "    print(f\"Test Error: \\n Accuracy: {(100*correct):>0.1f}%, Avg loss: {test_loss:>8f} \\n\")"
   ]
  },
  {
   "cell_type": "code",
   "execution_count": null,
   "id": "054d3412",
   "metadata": {
    "ExecuteTime": {
     "end_time": "2023-05-15T09:45:18.238147Z",
     "start_time": "2023-05-15T09:43:31.546556Z"
    },
    "colab": {
     "base_uri": "https://localhost:8080/"
    },
    "id": "054d3412",
    "outputId": "4c784b60-4e3b-43f0-f2d9-23baba09ef10"
   },
   "outputs": [
    {
     "output_type": "stream",
     "name": "stdout",
     "text": [
      "Epoch 1\n",
      "-------------------------------\n",
      "loss: 4.844441  [   64/60000]\n",
      "loss: 4.663371  [ 6464/60000]\n",
      "loss: 4.442520  [12864/60000]\n",
      "loss: 4.180767  [19264/60000]\n",
      "loss: 3.730480  [25664/60000]\n",
      "loss: 3.460538  [32064/60000]\n",
      "loss: 2.717221  [38464/60000]\n",
      "loss: 2.482839  [44864/60000]\n",
      "loss: 2.159648  [51264/60000]\n",
      "loss: 1.728843  [57664/60000]\n",
      "Test Error: \n",
      " Accuracy: 50.7%, Avg loss: 1.990009 \n",
      "\n",
      "Epoch 2\n",
      "-------------------------------\n",
      "loss: 1.930277  [   64/60000]\n",
      "loss: 1.737315  [ 6464/60000]\n",
      "loss: 1.257024  [12864/60000]\n",
      "loss: 1.478610  [19264/60000]\n",
      "loss: 1.383907  [25664/60000]\n",
      "loss: 1.336580  [32064/60000]\n",
      "loss: 1.205825  [38464/60000]\n",
      "loss: 1.097229  [44864/60000]\n",
      "loss: 1.128471  [51264/60000]\n",
      "loss: 0.973882  [57664/60000]\n",
      "Test Error: \n",
      " Accuracy: 70.0%, Avg loss: 0.917176 \n",
      "\n",
      "Epoch 3\n",
      "-------------------------------\n",
      "loss: 0.980787  [   64/60000]\n",
      "loss: 1.063574  [ 6464/60000]\n",
      "loss: 0.810302  [12864/60000]\n",
      "loss: 1.095107  [19264/60000]\n",
      "loss: 1.125817  [25664/60000]\n",
      "loss: 1.053315  [32064/60000]\n",
      "loss: 0.954411  [38464/60000]\n",
      "loss: 0.879170  [44864/60000]\n",
      "loss: 0.922740  [51264/60000]\n",
      "loss: 0.731212  [57664/60000]\n",
      "Test Error: \n",
      " Accuracy: 74.3%, Avg loss: 0.748125 \n",
      "\n",
      "Epoch 4\n",
      "-------------------------------\n",
      "loss: 0.910643  [   64/60000]\n",
      "loss: 0.814884  [ 6464/60000]\n",
      "loss: 0.662120  [12864/60000]\n",
      "loss: 0.962823  [19264/60000]\n",
      "loss: 1.075740  [25664/60000]\n",
      "loss: 0.745053  [32064/60000]\n",
      "loss: 0.828826  [38464/60000]\n",
      "loss: 0.721653  [44864/60000]\n",
      "loss: 0.835101  [51264/60000]\n",
      "loss: 0.754912  [57664/60000]\n",
      "Test Error: \n",
      " Accuracy: 76.5%, Avg loss: 0.665431 \n",
      "\n",
      "Epoch 5\n",
      "-------------------------------\n",
      "loss: 0.657040  [   64/60000]\n",
      "loss: 0.811940  [ 6464/60000]\n",
      "loss: 0.551746  [12864/60000]\n",
      "loss: 0.837830  [19264/60000]\n",
      "loss: 0.860455  [25664/60000]\n",
      "loss: 0.653587  [32064/60000]\n",
      "loss: 0.767579  [38464/60000]\n",
      "loss: 0.779162  [44864/60000]\n",
      "loss: 0.707786  [51264/60000]\n",
      "loss: 0.691363  [57664/60000]\n",
      "Test Error: \n",
      " Accuracy: 77.9%, Avg loss: 0.611192 \n",
      "\n",
      "Finished Training\n",
      "Training time:  76.65075540542603 seconds\n",
      "Done!\n"
     ]
    }
   ],
   "source": [
    "epochs = 5\n",
    "start_time = time.time()\n",
    "for t in range(epochs):\n",
    "    print(f\"Epoch {t+1}\\n-------------------------------\")\n",
    "    train(train_dataloader, model, loss_fn, optimizer)\n",
    "    test(test_dataloader, model, loss_fn)\n",
    "end_time = time.time()\n",
    "training_time = end_time - start_time\n",
    "print('Finished Training')\n",
    "print('Training time: ', training_time, 'seconds')\n",
    "print(\"Done!\")"
   ]
  },
  {
   "cell_type": "code",
   "source": [
    "model.to(device)\n",
    "def calculate_metrics(model, dataloader):\n",
    "    correct = 0\n",
    "    total = 0\n",
    "    y_true = []\n",
    "    y_pred = []\n",
    "    with torch.no_grad():\n",
    "        for data in dataloader:\n",
    "            images, labels = data[0].to(device), data[1].to(device)\n",
    "            outputs = model(images)\n",
    "            _, predicted = torch.max(outputs.data, 1)\n",
    "            total += labels.size(0)\n",
    "            correct += (predicted == labels).sum().item()\n",
    "            y_true.extend(labels.tolist())\n",
    "            y_pred.extend(predicted.tolist())\n",
    "\n",
    "    accuracy = correct / total\n",
    "    precision, recall, _, _ = precision_recall_fscore_support(y_true, y_pred, average='weighted')\n",
    "\n",
    "    return accuracy, precision, recall"
   ],
   "metadata": {
    "id": "xg27V3761e2p"
   },
   "id": "xg27V3761e2p",
   "execution_count": null,
   "outputs": []
  },
  {
   "cell_type": "code",
   "source": [
    "# Calculate metrics\n",
    "accuracy, precision, recall = calculate_metrics(model, test_dataloader)\n",
    "\n",
    "print(f'Accuracy: {accuracy}')\n",
    "print(f'Precision: {precision}')\n",
    "print(f'Recall: {recall}')"
   ],
   "metadata": {
    "colab": {
     "base_uri": "https://localhost:8080/"
    },
    "id": "x4AKF34d2jXv",
    "outputId": "6c737df3-91e5-4865-b9a9-82f2561d6d7c"
   },
   "id": "x4AKF34d2jXv",
   "execution_count": null,
   "outputs": [
    {
     "output_type": "stream",
     "name": "stdout",
     "text": [
      "Accuracy: 0.7792\n",
      "Precision: 0.7786579555387496\n",
      "Recall: 0.7792\n"
     ]
    }
   ]
  },
  {
   "cell_type": "code",
   "source": [
    "def get_model_size(model):\n",
    "    torch.save(model.state_dict(), \"model.pth\")\n",
    "    size_MB = os.path.getsize(\"model.pth\")/1e6\n",
    "    return size_MB\n",
    "\n",
    "def get_inference_time(model, input_shape=(1, 1, 28, 28), repeat=100):\n",
    "    device = next(model.parameters()).device  # Get the device of the model\n",
    "    model.eval()\n",
    "    input_data = torch.randn(input_shape).to(device)  # Move input data to the same device as the model\n",
    "    start_time = time.time()\n",
    "    for _ in range(repeat):\n",
    "        with torch.no_grad():\n",
    "            _ = model(input_data)\n",
    "    return (time.time() - start_time) / repeat\n",
    "\n",
    "# Get model size\n",
    "print(f'Model size: {get_model_size(model)} MB')\n",
    "\n",
    "# Get inference time\n",
    "print(f'Average inference time: {get_inference_time(model)} s')"
   ],
   "metadata": {
    "colab": {
     "base_uri": "https://localhost:8080/"
    },
    "id": "DhOsAofo-NS0",
    "outputId": "91fdc880-a6fc-45e8-e8fc-644926643a81"
   },
   "id": "DhOsAofo-NS0",
   "execution_count": null,
   "outputs": [
    {
     "output_type": "stream",
     "name": "stdout",
     "text": [
      "Model size: 4.170111 MB\n",
      "Average inference time: 0.0012595272064208985 s\n"
     ]
    }
   ]
  },
  {
   "cell_type": "code",
   "execution_count": null,
   "id": "3e4f3e94",
   "metadata": {
    "ExecuteTime": {
     "end_time": "2023-05-15T09:46:56.276844Z",
     "start_time": "2023-05-15T09:46:56.185834Z"
    },
    "colab": {
     "base_uri": "https://localhost:8080/"
    },
    "id": "3e4f3e94",
    "outputId": "cd6f8a72-1b80-4467-c445-c1850c57984a"
   },
   "outputs": [
    {
     "output_type": "execute_result",
     "data": {
      "text/plain": [
       "<All keys matched successfully>"
      ]
     },
     "metadata": {},
     "execution_count": 12
    }
   ],
   "source": [
    "model = ADLNet()\n",
    "model.load_state_dict(torch.load(\"model.pth\"))"
   ]
  },
  {
   "cell_type": "code",
   "execution_count": null,
   "id": "084be604",
   "metadata": {
    "ExecuteTime": {
     "end_time": "2023-05-15T09:50:34.758041Z",
     "start_time": "2023-05-15T09:50:34.706931Z"
    },
    "colab": {
     "base_uri": "https://localhost:8080/"
    },
    "id": "084be604",
    "outputId": "e168f59c-bb22-4982-e75d-e65f8c962b56"
   },
   "outputs": [
    {
     "output_type": "stream",
     "name": "stdout",
     "text": [
      "Predicted: \"Ankle boot\", Actual: \"Ankle boot\"\n"
     ]
    }
   ],
   "source": [
    "classes = [\n",
    "    \"T-shirt/top\",\n",
    "    \"Trouser\",\n",
    "    \"Pullover\",\n",
    "    \"Dress\",\n",
    "    \"Coat\",\n",
    "    \"Sandal\",\n",
    "    \"Shirt\",\n",
    "    \"Sneaker\",\n",
    "    \"Bag\",\n",
    "    \"Ankle boot\",\n",
    "]\n",
    "\n",
    "model.eval()\n",
    "x, y = test_data[0][0], test_data[0][1]\n",
    "x = x.unsqueeze(0)\n",
    "with torch.no_grad():\n",
    "    pred = model(x)\n",
    "    predicted, actual = classes[pred[0].argmax(0)], classes[y]\n",
    "    print(f'Predicted: \"{predicted}\", Actual: \"{actual}\"')"
   ]
  }
 ],
 "metadata": {
  "kernelspec": {
   "display_name": "Python 3 (ipykernel)",
   "language": "python",
   "name": "python3"
  },
  "language_info": {
   "codemirror_mode": {
    "name": "ipython",
    "version": 3
   },
   "file_extension": ".py",
   "mimetype": "text/x-python",
   "name": "python",
   "nbconvert_exporter": "python",
   "pygments_lexer": "ipython3",
   "version": "3.10.9"
  },
  "colab": {
   "provenance": [],
   "gpuType": "T4"
  },
  "accelerator": "GPU",
  "gpuClass": "standard"
 },
 "nbformat": 4,
 "nbformat_minor": 5
}
